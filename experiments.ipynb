{
 "cells": [
  {
   "cell_type": "code",
   "execution_count": 1,
   "metadata": {},
   "outputs": [],
   "source": [
    "%load_ext autoreload\n",
    "%autoreload 2"
   ]
  },
  {
   "cell_type": "code",
   "execution_count": 2,
   "metadata": {},
   "outputs": [
    {
     "name": "stdout",
     "output_type": "stream",
     "text": [
      "Cloning into 'bayesopt_playground'...\n",
      "remote: Enumerating objects: 74, done.\u001b[K\n",
      "remote: Counting objects: 100% (74/74), done.\u001b[K\n",
      "remote: Compressing objects: 100% (51/51), done.\u001b[K\n",
      "remote: Total 74 (delta 37), reused 55 (delta 21), pack-reused 0\u001b[K\n",
      "Receiving objects: 100% (74/74), 21.31 KiB | 21.31 MiB/s, done.\n",
      "Resolving deltas: 100% (37/37), done.\n",
      "Cloning into 'HPOBench'...\n",
      "remote: Enumerating objects: 3096, done.\u001b[K\n",
      "remote: Counting objects: 100% (1382/1382), done.\u001b[K\n",
      "remote: Compressing objects: 100% (437/437), done.\u001b[K\n",
      "remote: Total 3096 (delta 1129), reused 1084 (delta 942), pack-reused 1714\u001b[K\n",
      "Receiving objects: 100% (3096/3096), 762.70 KiB | 4.51 MiB/s, done.\n",
      "Resolving deltas: 100% (2138/2138), done.\n",
      "zsh:1: no matches found: .[paramnet]\n",
      "Requirement already satisfied: botorch in /Users/tlong/anaconda3/envs/bayesopt/lib/python3.9/site-packages (0.8.0)\n",
      "Requirement already satisfied: scipy in /Users/tlong/anaconda3/envs/bayesopt/lib/python3.9/site-packages (from botorch) (1.9.1)\n",
      "Requirement already satisfied: pyro-ppl>=1.8.2 in /Users/tlong/anaconda3/envs/bayesopt/lib/python3.9/site-packages (from botorch) (1.8.3)\n",
      "Requirement already satisfied: linear-operator==0.2.0 in /Users/tlong/anaconda3/envs/bayesopt/lib/python3.9/site-packages (from botorch) (0.2.0)\n",
      "Requirement already satisfied: gpytorch==1.9.0 in /Users/tlong/anaconda3/envs/bayesopt/lib/python3.9/site-packages (from botorch) (1.9.0)\n",
      "Requirement already satisfied: torch>=1.11 in /Users/tlong/anaconda3/envs/bayesopt/lib/python3.9/site-packages (from botorch) (1.14.0.dev20221019)\n",
      "Requirement already satisfied: multipledispatch in /Users/tlong/anaconda3/envs/bayesopt/lib/python3.9/site-packages (from botorch) (0.6.0)\n",
      "Requirement already satisfied: scikit-learn in /Users/tlong/anaconda3/envs/bayesopt/lib/python3.9/site-packages (from gpytorch==1.9.0->botorch) (1.1.3)\n",
      "Requirement already satisfied: tqdm>=4.36 in /Users/tlong/anaconda3/envs/bayesopt/lib/python3.9/site-packages (from pyro-ppl>=1.8.2->botorch) (4.64.1)\n",
      "Requirement already satisfied: numpy>=1.7 in /Users/tlong/anaconda3/envs/bayesopt/lib/python3.9/site-packages (from pyro-ppl>=1.8.2->botorch) (1.23.5)\n",
      "Requirement already satisfied: opt-einsum>=2.3.2 in /Users/tlong/anaconda3/envs/bayesopt/lib/python3.9/site-packages (from pyro-ppl>=1.8.2->botorch) (3.3.0)\n",
      "Requirement already satisfied: pyro-api>=0.1.1 in /Users/tlong/anaconda3/envs/bayesopt/lib/python3.9/site-packages (from pyro-ppl>=1.8.2->botorch) (0.1.2)\n",
      "Requirement already satisfied: typing_extensions in /Users/tlong/anaconda3/envs/bayesopt/lib/python3.9/site-packages (from torch>=1.11->botorch) (4.3.0)\n",
      "Requirement already satisfied: sympy in /Users/tlong/anaconda3/envs/bayesopt/lib/python3.9/site-packages (from torch>=1.11->botorch) (1.10.1)\n",
      "Requirement already satisfied: networkx in /Users/tlong/anaconda3/envs/bayesopt/lib/python3.9/site-packages (from torch>=1.11->botorch) (2.8.4)\n",
      "Requirement already satisfied: six in /Users/tlong/anaconda3/envs/bayesopt/lib/python3.9/site-packages (from multipledispatch->botorch) (1.16.0)\n",
      "Requirement already satisfied: threadpoolctl>=2.0.0 in /Users/tlong/anaconda3/envs/bayesopt/lib/python3.9/site-packages (from scikit-learn->gpytorch==1.9.0->botorch) (2.2.0)\n",
      "Requirement already satisfied: joblib>=1.0.0 in /Users/tlong/anaconda3/envs/bayesopt/lib/python3.9/site-packages (from scikit-learn->gpytorch==1.9.0->botorch) (1.1.0)\n",
      "Requirement already satisfied: mpmath>=0.19 in /Users/tlong/anaconda3/envs/bayesopt/lib/python3.9/site-packages (from sympy->torch>=1.11->botorch) (1.2.1)\n"
     ]
    }
   ],
   "source": [
    "# For colab\n",
    "!git clone https://github.com/theo-long/bayesopt_playground.git\n",
    "!git clone https://github.com/automl/HPOBench.git\n",
    "!cd HPOBench && pip install .[paramnet]\n",
    "!pip install botorch"
   ]
  },
  {
   "cell_type": "code",
   "execution_count": 1,
   "metadata": {},
   "outputs": [
    {
     "name": "stderr",
     "output_type": "stream",
     "text": [
      "/Users/tlong/anaconda3/envs/bayesopt/lib/python3.9/site-packages/sklearn/experimental/enable_hist_gradient_boosting.py:16: UserWarning: Since version 1.0, it is not needed to import enable_hist_gradient_boosting anymore. HistGradientBoostingClassifier and HistGradientBoostingRegressor are now stable and can be normally imported from sklearn.ensemble.\n",
      "  warnings.warn(\n"
     ]
    }
   ],
   "source": [
    "from bayesopt_playground.optimization_loops import optimization_loop, get_recommendation\n",
    "from bayesopt_playground.acquistion_functions import mutli_fidelity_entropy_search, expected_improvement, multi_fidelity_kg\n",
    "from bayesopt_playground.models import multi_fidelity_gp, simple_gp\n",
    "from bayesopt_playground.benchmarks import generate_benchmark_bounds, generate_objective_function, svm_benchmark, nn_benchmark\n",
    "from bayesopt_playground.utils import run_experiment\n",
    "\n",
    "from bayesopt_playground.benchmarks import (\n",
    "    augmented_branin_benchmark,\n",
    "    hartmann_benchmark,\n",
    "    branin_benchmark,\n",
    "    augmented_hartmann_benchmark,\n",
    "    nn_mnist_benchmark,\n",
    "    nn_fashion_mnist_benchmark,\n",
    "    generate_optimization_task,\n",
    "    svm_benchmark,   \n",
    ")\n",
    "\n",
    "from botorch.models.cost import AffineFidelityCostModel"
   ]
  },
  {
   "cell_type": "markdown",
   "metadata": {},
   "source": [
    "# Baseline: Expected Improvement"
   ]
  },
  {
   "cell_type": "markdown",
   "metadata": {},
   "source": [
    "# Predictive Entropy Search (no Fidelity)"
   ]
  },
  {
   "cell_type": "markdown",
   "metadata": {},
   "source": [
    "# Max Value Entropy Search (no Fidelity)"
   ]
  },
  {
   "cell_type": "markdown",
   "metadata": {},
   "source": [
    "# Knowledge Gradient (no fidelity)"
   ]
  },
  {
   "cell_type": "markdown",
   "metadata": {},
   "source": [
    "# MVES with Fidelity"
   ]
  },
  {
   "cell_type": "markdown",
   "metadata": {},
   "source": [
    "# Knowledge Grad with Fidelity"
   ]
  },
  {
   "cell_type": "markdown",
   "metadata": {},
   "source": [
    "# Try fixed cost model"
   ]
  },
  {
   "cell_type": "code",
   "execution_count": null,
   "metadata": {},
   "outputs": [],
   "source": []
  }
 ],
 "metadata": {
  "kernelspec": {
   "display_name": "Python 3.9.13 ('bayesopt')",
   "language": "python",
   "name": "python3"
  },
  "language_info": {
   "codemirror_mode": {
    "name": "ipython",
    "version": 3
   },
   "file_extension": ".py",
   "mimetype": "text/x-python",
   "name": "python",
   "nbconvert_exporter": "python",
   "pygments_lexer": "ipython3",
   "version": "3.9.13"
  },
  "orig_nbformat": 4,
  "vscode": {
   "interpreter": {
    "hash": "a4854f60f564f03b76d206430892f8b02f14fc2bd1a9b722c1b4a0859ead56e8"
   }
  }
 },
 "nbformat": 4,
 "nbformat_minor": 2
}
