{
 "cells": [
  {
   "cell_type": "code",
   "execution_count": 1,
   "metadata": {},
   "outputs": [],
   "source": [
    "%load_ext autoreload\n",
    "%autoreload 2"
   ]
  },
  {
   "cell_type": "code",
   "execution_count": null,
   "metadata": {},
   "outputs": [],
   "source": [
    "# For colab\n",
    "!git clone https://github.com/theo-long/bayesopt_playground.git\n",
    "!git clone https://github.com/automl/HPOBench.git\n",
    "!cd HPOBench && pip install .[paramnet]"
   ]
  },
  {
   "cell_type": "code",
   "execution_count": 111,
   "metadata": {},
   "outputs": [],
   "source": [
    "from bayesopt_playground.optimization_loops import optimization_loop, get_recommendation\n",
    "from bayesopt_playground.acquistion_functions import mutli_fidelity_entropy_search, expected_improvement, multi_fidelity_kg\n",
    "from bayesopt_playground.models import multi_fidelity_gp, simple_gp\n",
    "from bayesopt_playground.benchmarks import generate_benchmark_bounds, generate_objective_function, svm_benchmark, nn_benchmark\n",
    "from bayesopt_playground.utils import run_experiment\n",
    "\n",
    "from bayesopt_playground.benchmarks import (\n",
    "    augmented_branin_benchmark,\n",
    "    hartmann_benchmark,\n",
    "    branin_benchmark,\n",
    "    augmented_hartmann_benchmark,\n",
    "    nn_mnist_benchmark,\n",
    "    nn_fashion_mnist_benchmark,\n",
    "    generate_optimization_task,\n",
    "    svm_benchmark,   \n",
    ")"
   ]
  },
  {
   "cell_type": "markdown",
   "metadata": {},
   "source": [
    "# Baseline: Expected Improvement"
   ]
  },
  {
   "cell_type": "code",
   "execution_count": 281,
   "metadata": {},
   "outputs": [],
   "source": [
    "from bayesopt_playground.optimization_loops import generate_initial_data, optimize_hyperparameters\n",
    "from bayesopt_playground.benchmarks import generate_optimization_task\n",
    "\n",
    "obj, bounds = generate_optimization_task(augmented_branin_benchmark)\n",
    "train_x, train_obj, train_cost, _ = generate_initial_data(obj, bounds, fidelity_samples=[0.1, 0.11, 0.15, 0.12, 0.8, 1.0], n=120)\n",
    "train_obj = train_obj.unsqueeze(-1)\n",
    "train_cost = train_cost.unsqueeze(-1)\n",
    "train_x = train_x.squeeze(1)"
   ]
  },
  {
   "cell_type": "code",
   "execution_count": null,
   "metadata": {},
   "outputs": [],
   "source": []
  },
  {
   "cell_type": "markdown",
   "metadata": {},
   "source": [
    "# Predictive Entropy Search (no Fidelity)"
   ]
  },
  {
   "cell_type": "code",
   "execution_count": null,
   "metadata": {},
   "outputs": [],
   "source": []
  },
  {
   "cell_type": "markdown",
   "metadata": {},
   "source": [
    "# Max Value Entropy Search (no Fidelity)"
   ]
  },
  {
   "cell_type": "markdown",
   "metadata": {},
   "source": [
    "# Knowledge Gradient (no fidelity)"
   ]
  },
  {
   "cell_type": "markdown",
   "metadata": {},
   "source": [
    "# MVES with Fidelity"
   ]
  },
  {
   "cell_type": "markdown",
   "metadata": {},
   "source": [
    "# Knowledge Grad with Fidelity"
   ]
  },
  {
   "cell_type": "markdown",
   "metadata": {},
   "source": [
    "# Try fixed cost model"
   ]
  },
  {
   "cell_type": "code",
   "execution_count": null,
   "metadata": {},
   "outputs": [],
   "source": []
  }
 ],
 "metadata": {
  "kernelspec": {
   "display_name": "Python 3.9.13 ('bayesopt')",
   "language": "python",
   "name": "python3"
  },
  "language_info": {
   "codemirror_mode": {
    "name": "ipython",
    "version": 3
   },
   "file_extension": ".py",
   "mimetype": "text/x-python",
   "name": "python",
   "nbconvert_exporter": "python",
   "pygments_lexer": "ipython3",
   "version": "3.9.13"
  },
  "orig_nbformat": 4,
  "vscode": {
   "interpreter": {
    "hash": "a4854f60f564f03b76d206430892f8b02f14fc2bd1a9b722c1b4a0859ead56e8"
   }
  }
 },
 "nbformat": 4,
 "nbformat_minor": 2
}
