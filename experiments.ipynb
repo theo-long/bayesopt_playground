{
 "cells": [
  {
   "cell_type": "code",
   "execution_count": 2,
   "metadata": {},
   "outputs": [],
   "source": [
    "%load_ext autoreload\n",
    "%autoreload 2"
   ]
  },
  {
   "cell_type": "code",
   "execution_count": null,
   "metadata": {},
   "outputs": [],
   "source": [
    "# For import to colab\n",
    "!git clone "
   ]
  },
  {
   "cell_type": "code",
   "execution_count": 3,
   "metadata": {},
   "outputs": [
    {
     "name": "stderr",
     "output_type": "stream",
     "text": [
      "/Users/tlong/anaconda3/envs/bayesopt/lib/python3.9/site-packages/sklearn/experimental/enable_hist_gradient_boosting.py:16: UserWarning: Since version 1.0, it is not needed to import enable_hist_gradient_boosting anymore. HistGradientBoostingClassifier and HistGradientBoostingRegressor are now stable and can be normally imported from sklearn.ensemble.\n",
      "  warnings.warn(\n"
     ]
    }
   ],
   "source": [
    "from bayesopt_playground.optimization_loops import optimization_loop, get_recommendation\n",
    "from bayesopt_playground.acquistion_functions import mutli_fidelity_entropy_search\n",
    "from bayesopt_playground.models import multi_fidelity_gp\n",
    "from bayesopt_playground.benchmarks import rf_iris_benchmark, generate_benchmark_bounds, generate_objective_function"
   ]
  },
  {
   "cell_type": "code",
   "execution_count": 13,
   "metadata": {},
   "outputs": [],
   "source": [
    "# Setup benchmark\n",
    "bounds = generate_benchmark_bounds(\n",
    "    rf_iris_benchmark,\n",
    "    fidelity_param=\"subsample\",\n",
    "    ignore_params=[\"max_depth\", \"min_samples_leaf\", \"min_samples_split\"],\n",
    ")\n",
    "obj_function = generate_objective_function(\n",
    "    rf_iris_benchmark,\n",
    "    fidelity_param=\"subsample\",\n",
    "    ignore_params=[\"max_depth\", \"min_samples_leaf\", \"min_samples_split\"],\n",
    ")"
   ]
  },
  {
   "cell_type": "code",
   "execution_count": 11,
   "metadata": {},
   "outputs": [
    {
     "name": "stderr",
     "output_type": "stream",
     "text": [
      "/Users/tlong/anaconda3/envs/bayesopt/lib/python3.9/site-packages/linear_operator/utils/cholesky.py:40: NumericalWarning: A not p.d., added jitter of 1.0e-08 to the diagonal\n",
      "  warnings.warn(\n",
      "/Users/tlong/anaconda3/envs/bayesopt/lib/python3.9/site-packages/linear_operator/utils/cholesky.py:40: NumericalWarning: A not p.d., added jitter of 1.0e-07 to the diagonal\n",
      "  warnings.warn(\n",
      "/Users/tlong/anaconda3/envs/bayesopt/lib/python3.9/site-packages/linear_operator/utils/cholesky.py:40: NumericalWarning: A not p.d., added jitter of 1.0e-06 to the diagonal\n",
      "  warnings.warn(\n",
      "/Users/tlong/anaconda3/envs/bayesopt/lib/python3.9/site-packages/linear_operator/utils/cholesky.py:40: NumericalWarning: A not p.d., added jitter of 1.0e-05 to the diagonal\n",
      "  warnings.warn(\n",
      "/Users/tlong/anaconda3/envs/bayesopt/lib/python3.9/site-packages/linear_operator/utils/cholesky.py:40: NumericalWarning: A not p.d., added jitter of 1.0e-04 to the diagonal\n",
      "  warnings.warn(\n",
      "/Users/tlong/anaconda3/envs/bayesopt/lib/python3.9/site-packages/linear_operator/utils/cholesky.py:40: NumericalWarning: A not p.d., added jitter of 1.0e-03 to the diagonal\n",
      "  warnings.warn(\n",
      "  0%|          | 0/5 [00:00<?, ?it/s]/Users/tlong/anaconda3/envs/bayesopt/lib/python3.9/site-packages/linear_operator/utils/cholesky.py:40: NumericalWarning: A not p.d., added jitter of 1.0e-08 to the diagonal\n",
      "  warnings.warn(\n",
      "/Users/tlong/anaconda3/envs/bayesopt/lib/python3.9/site-packages/linear_operator/utils/cholesky.py:40: NumericalWarning: A not p.d., added jitter of 1.0e-07 to the diagonal\n",
      "  warnings.warn(\n",
      "/Users/tlong/anaconda3/envs/bayesopt/lib/python3.9/site-packages/linear_operator/utils/cholesky.py:40: NumericalWarning: A not p.d., added jitter of 1.0e-06 to the diagonal\n",
      "  warnings.warn(\n",
      "/Users/tlong/anaconda3/envs/bayesopt/lib/python3.9/site-packages/linear_operator/utils/cholesky.py:40: NumericalWarning: A not p.d., added jitter of 1.0e-05 to the diagonal\n",
      "  warnings.warn(\n",
      "/Users/tlong/anaconda3/envs/bayesopt/lib/python3.9/site-packages/linear_operator/utils/cholesky.py:40: NumericalWarning: A not p.d., added jitter of 1.0e-04 to the diagonal\n",
      "  warnings.warn(\n",
      "/Users/tlong/anaconda3/envs/bayesopt/lib/python3.9/site-packages/linear_operator/utils/cholesky.py:40: NumericalWarning: A not p.d., added jitter of 1.0e-03 to the diagonal\n",
      "  warnings.warn(\n",
      " 20%|██        | 1/5 [00:01<00:05,  1.35s/it]/Users/tlong/anaconda3/envs/bayesopt/lib/python3.9/site-packages/linear_operator/utils/cholesky.py:40: NumericalWarning: A not p.d., added jitter of 1.0e-08 to the diagonal\n",
      "  warnings.warn(\n",
      "/Users/tlong/anaconda3/envs/bayesopt/lib/python3.9/site-packages/linear_operator/utils/cholesky.py:40: NumericalWarning: A not p.d., added jitter of 1.0e-07 to the diagonal\n",
      "  warnings.warn(\n",
      "/Users/tlong/anaconda3/envs/bayesopt/lib/python3.9/site-packages/linear_operator/utils/cholesky.py:40: NumericalWarning: A not p.d., added jitter of 1.0e-06 to the diagonal\n",
      "  warnings.warn(\n",
      "/Users/tlong/anaconda3/envs/bayesopt/lib/python3.9/site-packages/linear_operator/utils/cholesky.py:40: NumericalWarning: A not p.d., added jitter of 1.0e-05 to the diagonal\n",
      "  warnings.warn(\n",
      "/Users/tlong/anaconda3/envs/bayesopt/lib/python3.9/site-packages/linear_operator/utils/cholesky.py:40: NumericalWarning: A not p.d., added jitter of 1.0e-04 to the diagonal\n",
      "  warnings.warn(\n",
      "/Users/tlong/anaconda3/envs/bayesopt/lib/python3.9/site-packages/linear_operator/utils/cholesky.py:40: NumericalWarning: A not p.d., added jitter of 1.0e-03 to the diagonal\n",
      "  warnings.warn(\n",
      " 40%|████      | 2/5 [00:02<00:04,  1.35s/it]/Users/tlong/anaconda3/envs/bayesopt/lib/python3.9/site-packages/linear_operator/utils/cholesky.py:40: NumericalWarning: A not p.d., added jitter of 1.0e-08 to the diagonal\n",
      "  warnings.warn(\n",
      "/Users/tlong/anaconda3/envs/bayesopt/lib/python3.9/site-packages/linear_operator/utils/cholesky.py:40: NumericalWarning: A not p.d., added jitter of 1.0e-07 to the diagonal\n",
      "  warnings.warn(\n",
      "/Users/tlong/anaconda3/envs/bayesopt/lib/python3.9/site-packages/linear_operator/utils/cholesky.py:40: NumericalWarning: A not p.d., added jitter of 1.0e-06 to the diagonal\n",
      "  warnings.warn(\n",
      "/Users/tlong/anaconda3/envs/bayesopt/lib/python3.9/site-packages/linear_operator/utils/cholesky.py:40: NumericalWarning: A not p.d., added jitter of 1.0e-05 to the diagonal\n",
      "  warnings.warn(\n",
      "/Users/tlong/anaconda3/envs/bayesopt/lib/python3.9/site-packages/linear_operator/utils/cholesky.py:40: NumericalWarning: A not p.d., added jitter of 1.0e-04 to the diagonal\n",
      "  warnings.warn(\n",
      "/Users/tlong/anaconda3/envs/bayesopt/lib/python3.9/site-packages/linear_operator/utils/cholesky.py:40: NumericalWarning: A not p.d., added jitter of 1.0e-03 to the diagonal\n",
      "  warnings.warn(\n",
      " 60%|██████    | 3/5 [00:04<00:02,  1.35s/it]/Users/tlong/anaconda3/envs/bayesopt/lib/python3.9/site-packages/linear_operator/utils/cholesky.py:40: NumericalWarning: A not p.d., added jitter of 1.0e-08 to the diagonal\n",
      "  warnings.warn(\n",
      "/Users/tlong/anaconda3/envs/bayesopt/lib/python3.9/site-packages/linear_operator/utils/cholesky.py:40: NumericalWarning: A not p.d., added jitter of 1.0e-07 to the diagonal\n",
      "  warnings.warn(\n",
      "/Users/tlong/anaconda3/envs/bayesopt/lib/python3.9/site-packages/linear_operator/utils/cholesky.py:40: NumericalWarning: A not p.d., added jitter of 1.0e-06 to the diagonal\n",
      "  warnings.warn(\n",
      "/Users/tlong/anaconda3/envs/bayesopt/lib/python3.9/site-packages/linear_operator/utils/cholesky.py:40: NumericalWarning: A not p.d., added jitter of 1.0e-05 to the diagonal\n",
      "  warnings.warn(\n",
      "/Users/tlong/anaconda3/envs/bayesopt/lib/python3.9/site-packages/linear_operator/utils/cholesky.py:40: NumericalWarning: A not p.d., added jitter of 1.0e-04 to the diagonal\n",
      "  warnings.warn(\n",
      "/Users/tlong/anaconda3/envs/bayesopt/lib/python3.9/site-packages/linear_operator/utils/cholesky.py:40: NumericalWarning: A not p.d., added jitter of 1.0e-03 to the diagonal\n",
      "  warnings.warn(\n",
      "/Users/tlong/anaconda3/envs/bayesopt/lib/python3.9/site-packages/linear_operator/utils/cholesky.py:40: NumericalWarning: A not p.d., added jitter of 1.0e-08 to the diagonal\n",
      "  warnings.warn(\n",
      "/Users/tlong/anaconda3/envs/bayesopt/lib/python3.9/site-packages/linear_operator/utils/cholesky.py:40: NumericalWarning: A not p.d., added jitter of 1.0e-07 to the diagonal\n",
      "  warnings.warn(\n",
      "/Users/tlong/anaconda3/envs/bayesopt/lib/python3.9/site-packages/linear_operator/utils/cholesky.py:40: NumericalWarning: A not p.d., added jitter of 1.0e-06 to the diagonal\n",
      "  warnings.warn(\n",
      " 80%|████████  | 4/5 [00:05<00:01,  1.27s/it]/Users/tlong/anaconda3/envs/bayesopt/lib/python3.9/site-packages/linear_operator/utils/cholesky.py:40: NumericalWarning: A not p.d., added jitter of 1.0e-08 to the diagonal\n",
      "  warnings.warn(\n",
      "/Users/tlong/anaconda3/envs/bayesopt/lib/python3.9/site-packages/linear_operator/utils/cholesky.py:40: NumericalWarning: A not p.d., added jitter of 1.0e-07 to the diagonal\n",
      "  warnings.warn(\n",
      "/Users/tlong/anaconda3/envs/bayesopt/lib/python3.9/site-packages/linear_operator/utils/cholesky.py:40: NumericalWarning: A not p.d., added jitter of 1.0e-06 to the diagonal\n",
      "  warnings.warn(\n",
      "/Users/tlong/anaconda3/envs/bayesopt/lib/python3.9/site-packages/linear_operator/utils/cholesky.py:40: NumericalWarning: A not p.d., added jitter of 1.0e-05 to the diagonal\n",
      "  warnings.warn(\n",
      "/Users/tlong/anaconda3/envs/bayesopt/lib/python3.9/site-packages/linear_operator/utils/cholesky.py:40: NumericalWarning: A not p.d., added jitter of 1.0e-04 to the diagonal\n",
      "  warnings.warn(\n",
      "/Users/tlong/anaconda3/envs/bayesopt/lib/python3.9/site-packages/linear_operator/utils/cholesky.py:40: NumericalWarning: A not p.d., added jitter of 1.0e-03 to the diagonal\n",
      "  warnings.warn(\n",
      "/Users/tlong/anaconda3/envs/bayesopt/lib/python3.9/site-packages/linear_operator/utils/cholesky.py:40: NumericalWarning: A not p.d., added jitter of 1.0e-08 to the diagonal\n",
      "  warnings.warn(\n",
      "/Users/tlong/anaconda3/envs/bayesopt/lib/python3.9/site-packages/linear_operator/utils/cholesky.py:40: NumericalWarning: A not p.d., added jitter of 1.0e-07 to the diagonal\n",
      "  warnings.warn(\n",
      "/Users/tlong/anaconda3/envs/bayesopt/lib/python3.9/site-packages/linear_operator/utils/cholesky.py:40: NumericalWarning: A not p.d., added jitter of 1.0e-06 to the diagonal\n",
      "  warnings.warn(\n",
      "/Users/tlong/anaconda3/envs/bayesopt/lib/python3.9/site-packages/linear_operator/utils/cholesky.py:40: NumericalWarning: A not p.d., added jitter of 1.0e-05 to the diagonal\n",
      "  warnings.warn(\n",
      "/Users/tlong/anaconda3/envs/bayesopt/lib/python3.9/site-packages/linear_operator/utils/cholesky.py:40: NumericalWarning: A not p.d., added jitter of 1.0e-04 to the diagonal\n",
      "  warnings.warn(\n",
      "100%|██████████| 5/5 [00:06<00:00,  1.28s/it]\n"
     ]
    }
   ],
   "source": [
    "model, x, obj = optimization_loop(\n",
    "    multi_fidelity_gp,\n",
    "    multi_fidelity_gp, \n",
    "    mutli_fidelity_entropy_search,\n",
    "    objective_function=obj_function,\n",
    "    bounds=bounds,\n",
    "    initial_samples=20, \n",
    "    n_iter=5)"
   ]
  },
  {
   "cell_type": "code",
   "execution_count": 14,
   "metadata": {},
   "outputs": [
    {
     "name": "stdout",
     "output_type": "stream",
     "text": [
      "recommended point:\n",
      "tensor([[0.210, 1.000]], dtype=torch.float64)\n",
      "\n",
      "objective value:\n",
      "tensor([0.], dtype=torch.float64)\n"
     ]
    },
    {
     "data": {
      "text/plain": [
       "tensor([[0.210, 1.000]], dtype=torch.float64)"
      ]
     },
     "execution_count": 14,
     "metadata": {},
     "output_type": "execute_result"
    }
   ],
   "source": [
    "get_recommendation(model=model, objective_function=obj_function, bounds=bounds)"
   ]
  },
  {
   "cell_type": "code",
   "execution_count": 15,
   "metadata": {},
   "outputs": [
    {
     "data": {
      "text/plain": [
       "[{'function_value': 0.0,\n",
       "  'cost': 0.22768807411193848,\n",
       "  'info': {'train_loss': 1.0,\n",
       "   'val_loss': 0.0,\n",
       "   'test_loss': 0.06666666666666665,\n",
       "   'model_cost': 0.21411395072937012,\n",
       "   'train_scores': {'acc': 0.0, 'bal_acc': 0.0, 'f1': 0.0, 'precision': 0.0},\n",
       "   'train_costs': {'acc': 0.0, 'bal_acc': 0.0, 'f1': 0.0, 'precision': 0.0},\n",
       "   'val_scores': {'acc': 1.0, 'bal_acc': 1.0, 'f1': 1.0, 'precision': 1.0},\n",
       "   'val_costs': {'acc': 0.01357412338256836,\n",
       "    'bal_acc': 0.013333797454833984,\n",
       "    'f1': 0.013527154922485352,\n",
       "    'precision': 0.013356924057006836},\n",
       "   'test_scores': {'acc': 0.9333333333333333,\n",
       "    'bal_acc': 0.9333333333333332,\n",
       "    'f1': 0.9326599326599326,\n",
       "    'precision': 0.9444444444444445},\n",
       "   'test_costs': {'acc': 0.012419939041137695,\n",
       "    'bal_acc': 0.013321161270141602,\n",
       "    'f1': 0.01313018798828125,\n",
       "    'precision': 0.013972997665405273},\n",
       "   'fidelity': {'n_estimators': 512, 'subsample': 1.0},\n",
       "   'config': {'max_depth': 10,\n",
       "    'max_features': 0.20999999344348907,\n",
       "    'min_samples_leaf': 1,\n",
       "    'min_samples_split': 32}}}]"
      ]
     },
     "execution_count": 15,
     "metadata": {},
     "output_type": "execute_result"
    }
   ],
   "source": [
    "import torch\n",
    "obj_function(torch.tensor([[0.210, 1.000]]), full_result=True)"
   ]
  },
  {
   "cell_type": "code",
   "execution_count": null,
   "metadata": {},
   "outputs": [],
   "source": []
  }
 ],
 "metadata": {
  "kernelspec": {
   "display_name": "Python 3.9.13 ('bayesopt')",
   "language": "python",
   "name": "python3"
  },
  "language_info": {
   "codemirror_mode": {
    "name": "ipython",
    "version": 3
   },
   "file_extension": ".py",
   "mimetype": "text/x-python",
   "name": "python",
   "nbconvert_exporter": "python",
   "pygments_lexer": "ipython3",
   "version": "3.9.13"
  },
  "orig_nbformat": 4,
  "vscode": {
   "interpreter": {
    "hash": "a4854f60f564f03b76d206430892f8b02f14fc2bd1a9b722c1b4a0859ead56e8"
   }
  }
 },
 "nbformat": 4,
 "nbformat_minor": 2
}
