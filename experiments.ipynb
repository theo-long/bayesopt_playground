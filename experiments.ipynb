{
 "cells": [
  {
   "cell_type": "code",
   "execution_count": 1,
   "metadata": {},
   "outputs": [],
   "source": [
    "%load_ext autoreload\n",
    "%autoreload 2"
   ]
  },
  {
   "cell_type": "code",
   "execution_count": null,
   "metadata": {},
   "outputs": [],
   "source": [
    "# For import to colab\n",
    "!git clone https://github.com/theo-long/bayesopt_playground.git"
   ]
  },
  {
   "cell_type": "code",
   "execution_count": 1,
   "metadata": {},
   "outputs": [
    {
     "name": "stderr",
     "output_type": "stream",
     "text": [
      "/Users/tlong/anaconda3/envs/bayesopt/lib/python3.9/site-packages/sklearn/experimental/enable_hist_gradient_boosting.py:16: UserWarning: Since version 1.0, it is not needed to import enable_hist_gradient_boosting anymore. HistGradientBoostingClassifier and HistGradientBoostingRegressor are now stable and can be normally imported from sklearn.ensemble.\n",
      "  warnings.warn(\n"
     ]
    }
   ],
   "source": [
    "from bayesopt_playground.optimization_loops import optimization_loop, get_recommendation\n",
    "from bayesopt_playground.acquistion_functions import mutli_fidelity_entropy_search, expected_improvement, multi_fidelity_kg\n",
    "from bayesopt_playground.models import multi_fidelity_gp, simple_gp\n",
    "from bayesopt_playground.benchmarks import generate_benchmark_bounds, generate_objective_function, svm_benchmark, nn_benchmark\n",
    "\n",
    "from botorch.test_functions.multi_fidelity import AugmentedBranin, AugmentedHartmann"
   ]
  },
  {
   "cell_type": "markdown",
   "metadata": {},
   "source": [
    "# Baseline: Expected Improvement"
   ]
  },
  {
   "cell_type": "code",
   "execution_count": null,
   "metadata": {},
   "outputs": [],
   "source": [
    "from bayesopt_playground.benchmarks import (\n",
    "    augmented_branin_benchmark,\n",
    "    nn_mnist_benchmark,\n",
    "    generate_optimization_task,\n",
    "    branin_benchmark,\n",
    ")"
   ]
  },
  {
   "cell_type": "code",
   "execution_count": null,
   "metadata": {},
   "outputs": [],
   "source": [
    "def run_experiment(\n",
    "    benchmarks,\n",
    "    model_factory,\n",
    "    cost_model_factory,\n",
    "    acquisition_factory,\n",
    "    multi_fidelity,\n",
    "    num_runs=20,\n",
    "    num_iters=50,\n",
    "):\n",
    "    for benchmark in benchmarks:\n",
    "        print(f\"Starting {benchmark.__name__}\")\n",
    "        objective_function, bounds = generate_optimization_task(benchmark)\n",
    "        log_transform_indices = getattr(benchmark, \"log_transform_indices\", None)\n",
    "        pass_current_best = getattr(acquisition_factory, \"pass_current_best\", False)\n",
    "\n",
    "        if multi_fidelity:\n",
    "            initial_samples = 10\n",
    "            fidelity_samples = [0.1, 0.2, 0.4]\n",
    "        else:\n",
    "            initial_samples = 30\n",
    "\n",
    "        for run in num_runs:\n",
    "            print(f\"Run {run+1}/{num_runs}\", end=\"\\r\")\n",
    "            \n",
    "            model, train_x, train_obj, full_results = optimization_loop(\n",
    "                model_factory,\n",
    "                cost_model_factory,\n",
    "                acquisition_factory,\n",
    "                objective_function,\n",
    "                bounds,\n",
    "                n_iter=num_iters,\n",
    "                initial_samples=initial_samples,\n",
    "                fidelity_samples=fidelity_samples,\n",
    "                log_transform_indices=log_transform_indices,\n",
    "                full_fidelity=not multi_fidelity,\n",
    "                pass_current_best=pass_current_best,\n",
    "            )\n",
    "\n",
    "            \n",
    "\n"
   ]
  },
  {
   "cell_type": "markdown",
   "metadata": {},
   "source": [
    "# Predictive Entropy Search (no Fidelity)"
   ]
  },
  {
   "cell_type": "markdown",
   "metadata": {},
   "source": [
    "# Max Value Entropy Search (no Fidelity)"
   ]
  },
  {
   "cell_type": "markdown",
   "metadata": {},
   "source": [
    "# Knowledge Gradient (no fidelity)"
   ]
  },
  {
   "cell_type": "markdown",
   "metadata": {},
   "source": [
    "# MVES with Fidelity"
   ]
  },
  {
   "cell_type": "markdown",
   "metadata": {},
   "source": [
    "# Knowledge Grad with Fidelity"
   ]
  },
  {
   "cell_type": "markdown",
   "metadata": {},
   "source": [
    "# Try fixed cost model"
   ]
  },
  {
   "cell_type": "code",
   "execution_count": null,
   "metadata": {},
   "outputs": [],
   "source": []
  }
 ],
 "metadata": {
  "kernelspec": {
   "display_name": "Python 3.9.13 ('bayesopt')",
   "language": "python",
   "name": "python3"
  },
  "language_info": {
   "codemirror_mode": {
    "name": "ipython",
    "version": 3
   },
   "file_extension": ".py",
   "mimetype": "text/x-python",
   "name": "python",
   "nbconvert_exporter": "python",
   "pygments_lexer": "ipython3",
   "version": "3.9.13"
  },
  "orig_nbformat": 4,
  "vscode": {
   "interpreter": {
    "hash": "a4854f60f564f03b76d206430892f8b02f14fc2bd1a9b722c1b4a0859ead56e8"
   }
  }
 },
 "nbformat": 4,
 "nbformat_minor": 2
}
